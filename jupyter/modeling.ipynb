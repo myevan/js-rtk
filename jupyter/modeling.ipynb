{
 "cells": [
  {
   "cell_type": "code",
   "execution_count": 1,
   "metadata": {},
   "outputs": [],
   "source": [
    "from doc import Hero, Province, T\n",
    "\n",
    "Hero.set_default(Hero(id=0, name=T(\"무명\")))   \n",
    "Hero.put(Hero(id=1, trust=50, name=T(\"공손찬\")))\n",
    "Hero.put(Hero(id=2, trust=50, name=T(\"유비\")))\n",
    "Hero.put(Hero(id=3, trust=50, name=T(\"원소\")))\n",
    "Hero.put(Hero(id=4, trust=50, name=T(\"한복\")))\n",
    "Hero.put(Hero(id=5, trust=50, name=T(\"공융\")))\n",
    "Hero.put(Hero(id=6, trust=50, name=T(\"조조\")))\n",
    "Hero.put(Hero(id=7, trust=50, name=T(\"동탁\")))\n",
    "Hero.put(Hero(id=8, trust=50, name=T(\"마등\")))\n",
    "Hero.put(Hero(id=9, trust=50, name=T(\"도겸\")))\n",
    "Hero.put(Hero(id=10, trust=50, name=T(\"원술\")))\n",
    "Hero.put(Hero(id=11, trust=50, name=T(\"유표\")))\n",
    "Hero.put(Hero(id=12, trust=50, name=T(\"손견\")))\n",
    "Hero.put(Hero(id=13, trust=50, name=T(\"왕랑\")))\n",
    "Hero.put(Hero(id=14, trust=50, name=T(\"유엽\")))\n",
    "Hero.put(Hero(id=15, trust=50, name=T(\"유언\")))\n",
    "Province.put(Province(id=1, pop=65000, gold=100, food=2000, rate=50, horses=5, loy=5, lnad=10, flood=5, forts=1, ruler_id=0, governor_id=0, name=T(\"유주\")))\n",
    "Province.put(Province(id=2, pop=70000, gold=100, food=2000, rate=50, horses=5, loy=5, lnad=10, flood=5, forts=2, ruler_id=0, governor_id=0, name=T(\"유주\")))\n",
    "Province.put(Province(id=3, pop=100000, gold=672, food=41000, rate=58, horses=9, loy=35, lnad=58, flood=33, forts=2, ruler_id=1, governor_id=0, name=T(\"유주\")))\n",
    "Province.put(Province(id=4, pop=100000, gold=2876, food=49275, rate=34, horses=10, loy=94, lnad=67, flood=82, forts=0, ruler_id=2, governor_id=0, name=T(\"병주\")))\n",
    "Province.put(Province(id=5, pop=70000, gold=100, food=2000, rate=50, horses=5, loy=15, lnad=25, flood=0, forts=1, ruler_id=0, governor_id=0, name=T(\"유주\")))\n",
    "Province.put(Province(id=6, pop=500000, gold=1000, food=70000, rate=44, horses=15, loy=50, lnad=50, flood=50, forts=3, ruler_id=3, governor_id=0, name=T(\"기주\")))\n",
    "Province.put(Province(id=7, pop=120000, gold=438, food=44000, rate=57, horses=14, loy=92, lnad=67, flood=51, forts=3, ruler_id=4, governor_id=0, name=T(\"기주\")))\n",
    "Province.put(Province(id=8, pop=80000, gold=634, food=34800, rate=50, horses=8, loy=99, lnad=70, flood=50, forts=2, ruler_id=5, governor_id=0, name=T(\"청주\")))\n",
    "Province.put(Province(id=9, pop=333500, gold=835, food=55800, rate=41, horses=18, loy=95, lnad=77, flood=73, forts=2, ruler_id=6, governor_id=0, name=T(\"연주\")))\n",
    "Province.put(Province(id=10, pop=800000, gold=533, food=74500, rate=58, horses=29, loy=45, lnad=68, flood=50, forts=6, ruler_id=7, governor_id=0, name=T(\"사주\")))\n",
    "Province.put(Province(id=11, pop=450000, gold=237, food=19300, rate=70, horses=13, loy=55, lnad=45, flood=38, forts=3, ruler_id=7, governor_id=0, name=T(\"사주\")))\n",
    "Province.put(Province(id=12, pop=250000, gold=265, food=30300, rate=57, horses=20, loy=47, lnad=45, flood=30, forts=4, ruler_id=7, governor_id=0, name=T(\"사주\")))\n",
    "Province.put(Province(id=13, pop=240000, gold=100, food=2000, rate=50, horses=5, loy=25, lnad=20, flood=20, forts=3, ruler_id=0, governor_id=0, name=T(\"옹주\")))\n",
    "Province.put(Province(id=14, pop=230000, gold=637, food=33300, rate=44, horses=29, loy=54, lnad=45, flood=40, forts=1, ruler_id=8, governor_id=0, name=T(\"량주\")))\n",
    "Province.put(Province(id=15, pop=80000, gold=100, food=2000, rate=50, horses=20, loy=5, lnad=10, flood=5, forts=1, ruler_id=0, governor_id=0, name=T(\"량주\")))\n",
    "Province.put(Province(id=16, pop=150000, gold=144, food=57400, rate=49, horses=12, loy=92, lnad=55, flood=32, forts=2, ruler_id=9, governor_id=0, name=T(\"서주\")))\n",
    "Province.put(Province(id=17, pop=200000, gold=100, food=2000, rate=50, horses=10, loy=45, lnad=50, flood=20, forts=4, ruler_id=0, governor_id=0, name=T(\"예주\")))\n",
    "Province.put(Province(id=18, pop=250000, gold=100, food=2000, rate=50, horses=10, loy=40, lnad=50, flood=10, forts=3, ruler_id=0, governor_id=0, name=T(\"예주\")))\n",
    "Province.put(Province(id=19, pop=900000, gold=670, food=35800, rate=52, horses=17, loy=62, lnad=54, flood=42, forts=4, ruler_id=10, governor_id=0, name=T(\"형주\")))\n",
    "Province.put(Province(id=20, pop=800000, gold=166, food=57100, rate=56, horses=26, loy=99, lnad=67, flood=48, forts=3, ruler_id=11, governor_id=0, name=T(\"형주\")))\n",
    "Province.put(Province(id=21, pop=584500, gold=777, food=73700, rate=47, horses=18, loy=96, lnad=83, flood=82, forts=4, ruler_id=12, governor_id=0, name=T(\"형주\")))\n",
    "Province.put(Province(id=22, pop=500000, gold=100, food=2000, rate=50, horses=15, loy=40, lnad=55, flood=10, forts=3, ruler_id=0, governor_id=0, name=T(\"형주\")))\n",
    "Province.put(Province(id=23, pop=650000, gold=100, food=2000, rate=50, horses=10, loy=40, lnad=50, flood=5, forts=1, ruler_id=0, governor_id=0, name=T(\"형주\")))\n",
    "Province.put(Province(id=24, pop=350000, gold=608, food=38000, rate=31, horses=10, loy=58, lnad=55, flood=30, forts=3, ruler_id=13, governor_id=0, name=T(\"양주\")))\n",
    "Province.put(Province(id=25, pop=150000, gold=100, food=2000, rate=50, horses=5, loy=30, lnad=40, flood=10, forts=1, ruler_id=0, governor_id=0, name=T(\"양주\")))\n",
    "Province.put(Province(id=26, pop=70000, gold=100, food=2000, rate=50, horses=5, loy=25, lnad=15, flood=5, forts=0, ruler_id=0, governor_id=0, name=T(\"양주\")))\n",
    "Province.put(Province(id=27, pop=80000, gold=100, food=2000, rate=50, horses=5, loy=25, lnad=15, flood=5, forts=4, ruler_id=0, governor_id=0, name=T(\"양주\")))\n",
    "Province.put(Province(id=28, pop=150000, gold=598, food=21400, rate=51, horses=10, loy=84, lnad=53, flood=23, forts=0, ruler_id=14, governor_id=0, name=T(\"양주\")))\n",
    "Province.put(Province(id=29, pop=300000, gold=100, food=2000, rate=50, horses=5, loy=35, lnad=35, flood=5, forts=3, ruler_id=0, governor_id=0, name=T(\"익주\")))\n",
    "Province.put(Province(id=30, pop=300000, gold=325, food=10590, rate=61, horses=15, loy=80, lnad=68, flood=35, forts=0, ruler_id=15, governor_id=0, name=T(\"익주\")))\n",
    "Province.put(Province(id=31, pop=300000, gold=100, food=2000, rate=50, horses=5, loy=35, lnad=35, flood=5, forts=1, ruler_id=0, governor_id=0, name=T(\"익주\")))\n",
    "Province.put(Province(id=32, pop=250000, gold=156, food=25950, rate=44, horses=15, loy=64, lnad=55, flood=32, forts=0, ruler_id=15, governor_id=0, name=T(\"익주\")))\n",
    "Province.put(Province(id=33, pop=348500, gold=79, food=69360, rate=51, horses=15, loy=99, lnad=70, flood=33, forts=4, ruler_id=15, governor_id=0, name=T(\"익주\")))\n",
    "Province.put(Province(id=34, pop=150000, gold=100, food=2000, rate=50, horses=5, loy=40, lnad=30, flood=5, forts=3, ruler_id=0, governor_id=0, name=T(\"익주\")))\n",
    "Province.put(Province(id=35, pop=80000, gold=100, food=2000, rate=50, horses=5, loy=35, lnad=25, flood=5, forts=1, ruler_id=0, governor_id=0, name=T(\"익주\")))\n",
    "Province.put(Province(id=36, pop=85000, gold=100, food=2000, rate=50, horses=5, loy=35, lnad=35, flood=5, forts=2, ruler_id=0, governor_id=0, name=T(\"익주\")))\n",
    "Province.put(Province(id=37, pop=60000, gold=100, food=2000, rate=50, horses=0, loy=5, lnad=10, flood=5, forts=1, ruler_id=0, governor_id=0, name=T(\"교주\")))\n",
    "Province.put(Province(id=38, pop=55000, gold=100, food=2000, rate=50, horses=0, loy=5, lnad=10, flood=0, forts=0, ruler_id=0, governor_id=0, name=T(\"교주\")))\n",
    "Province.put(Province(id=39, pop=60000, gold=100, food=2000, rate=50, horses=0, loy=5, lnad=10, flood=0, forts=0, ruler_id=0, governor_id=0, name=T(\"교주\")))\n",
    "Province.put(Province(id=40, pop=65000, gold=100, food=2000, rate=50, horses=5, loy=5, lnad=15, flood=5, forts=0, ruler_id=0, governor_id=0, name=T(\"교주\")))\n",
    "Province.put(Province(id=41, pop=80000, gold=100, food=2000, rate=50, horses=0, loy=5, lnad=15, flood=5, forts=1, ruler_id=0, governor_id=0, name=T(\"교주\")))\n"
   ]
  },
  {
   "cell_type": "code",
   "execution_count": 2,
   "metadata": {},
   "outputs": [
    {
     "name": "stdout",
     "output_type": "stream",
     "text": [
      "9. 연주\n",
      "Ruler: 조조\n",
      "Trust: 50\n",
      "Pop: 333500 Gold: 835 Loy: 95\n",
      "Men: 0 Food: 835 Land: 0\n",
      "Generals: 0 Rate: 41 Flood: 73\n",
      "FreeGens: 0 Horses: 18 Forts: 2\n"
     ]
    }
   ],
   "source": [
    "prov = Province.get(9)\n",
    "print(prov.head)\n",
    "print(prov.body)"
   ]
  },
  {
   "cell_type": "code",
   "execution_count": 3,
   "metadata": {},
   "outputs": [
    {
     "name": "stdout",
     "output_type": "stream",
     "text": [
      "4. 병주\n",
      "Ruler: 유비\n",
      "Trust: 50\n",
      "Pop: 100000 Gold: 2876 Loy: 94\n",
      "Men: 0 Food: 2876 Land: 0\n",
      "Generals: 0 Rate: 34 Flood: 82\n",
      "FreeGens: 0 Horses: 10 Forts: 0\n"
     ]
    }
   ],
   "source": [
    "prov = Province.get(4)\n",
    "print(prov.head)\n",
    "print(prov.body)"
   ]
  },
  {
   "cell_type": "code",
   "execution_count": null,
   "metadata": {},
   "outputs": [],
   "source": []
  }
 ],
 "metadata": {
  "kernelspec": {
   "display_name": "Python 3",
   "language": "python",
   "name": "python3"
  },
  "language_info": {
   "codemirror_mode": {
    "name": "ipython",
    "version": 3
   },
   "file_extension": ".py",
   "mimetype": "text/x-python",
   "name": "python",
   "nbconvert_exporter": "python",
   "pygments_lexer": "ipython3",
   "version": "3.6.9"
  }
 },
 "nbformat": 4,
 "nbformat_minor": 4
}
